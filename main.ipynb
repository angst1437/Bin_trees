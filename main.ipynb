{
 "cells": [
  {
   "cell_type": "markdown",
   "id": "ff5d6343-fee5-463c-8117-51576494a3e4",
   "metadata": {},
   "source": [
    "# Импорты"
   ]
  },
  {
   "cell_type": "code",
   "id": "c26be325-10e6-455e-95a1-231e5bb8dea3",
   "metadata": {
    "ExecuteTime": {
     "end_time": "2024-10-16T18:45:44.686331Z",
     "start_time": "2024-10-16T18:45:44.683135Z"
    }
   },
   "source": [
    "from random import randint\n",
    "import time\n",
    "from tree_class import Tree\n",
    "from node_class import Node\n",
    "import treelib"
   ],
   "outputs": [],
   "execution_count": 3
  },
  {
   "metadata": {},
   "cell_type": "markdown",
   "source": "# Часть 1",
   "id": "5db0c0e04cc88215"
  },
  {
   "metadata": {},
   "cell_type": "markdown",
   "source": "### Дерево на 25 значений",
   "id": "39e6fffc10c8bd22"
  },
  {
   "metadata": {
    "ExecuteTime": {
     "end_time": "2024-10-16T18:45:45.152392Z",
     "start_time": "2024-10-16T18:45:45.146659Z"
    }
   },
   "cell_type": "code",
   "source": [
    "tree = Tree()\n",
    "graphic_tree = treelib.Tree()\n",
    "\n",
    "tree.add_vertex(10)\n",
    "tree.add_vertex(5)\n",
    "tree.add_vertex(15)\n",
    "tree.add_vertex(3)\n",
    "tree.add_vertex(7)\n",
    "tree.add_vertex(12)\n",
    "tree.add_vertex(17)\n",
    "tree.add_vertex(16)\n",
    "tree.add_vertex(15)\n",
    "\n",
    "\n",
    "tree.get_height()\n",
    "    \n"
   ],
   "id": "7037dbdb861b4ad3",
   "outputs": [
    {
     "data": {
      "text/plain": [
       "4"
      ]
     },
     "execution_count": 4,
     "metadata": {},
     "output_type": "execute_result"
    }
   ],
   "execution_count": 4
  },
  {
   "metadata": {},
   "cell_type": "code",
   "outputs": [],
   "execution_count": null,
   "source": "",
   "id": "8312ffcb53d3de88"
  }
 ],
 "metadata": {
  "kernelspec": {
   "display_name": "Python 3 (ipykernel)",
   "language": "python",
   "name": "python3"
  },
  "language_info": {
   "codemirror_mode": {
    "name": "ipython",
    "version": 3
   },
   "file_extension": ".py",
   "mimetype": "text/x-python",
   "name": "python",
   "nbconvert_exporter": "python",
   "pygments_lexer": "ipython3",
   "version": "3.12.1"
  }
 },
 "nbformat": 4,
 "nbformat_minor": 5
}
