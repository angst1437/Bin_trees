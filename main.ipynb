{
 "cells": [
  {
   "cell_type": "markdown",
   "id": "ff5d6343-fee5-463c-8117-51576494a3e4",
   "metadata": {},
   "source": [
    "# Импорты"
   ]
  },
  {
   "cell_type": "code",
   "id": "c26be325-10e6-455e-95a1-231e5bb8dea3",
   "metadata": {
    "ExecuteTime": {
     "end_time": "2024-10-06T15:10:53.666395Z",
     "start_time": "2024-10-06T15:10:53.663732Z"
    }
   },
   "source": [
    "from random import randint\n",
    "import time"
   ],
   "outputs": [],
   "execution_count": 26
  },
  {
   "cell_type": "markdown",
   "id": "e6a2479d-965d-4054-ba66-f8ff62008cc3",
   "metadata": {},
   "source": [
    "# Класс вершины "
   ]
  },
  {
   "cell_type": "code",
   "id": "92bfbc6c-dc6a-4ab6-8638-7c47604d7451",
   "metadata": {
    "ExecuteTime": {
     "end_time": "2024-10-06T15:10:53.971758Z",
     "start_time": "2024-10-06T15:10:53.965682Z"
    }
   },
   "source": [
    "class Node:\n",
    "    def __init__(self, key):\n",
    "        self.key = key\n",
    "        self.parent = None\n",
    "        self.right_child = None\n",
    "        self.left_child = None\n",
    "        self.id = 0\n",
    "    \n",
    "    def get_child(self, greater=True):\n",
    "        if greater and self.right_child is not None:\n",
    "            return self.right_child\n",
    "        elif not greater and self.left_child is not None:\n",
    "            return self.left_child\n",
    "        else:\n",
    "            return None\n",
    "\n",
    "\n",
    "    def get_parent(self):\n",
    "        return self.parent\n",
    "\n",
    "    def get_key(self):\n",
    "        return self.key\n",
    "    \n",
    "    def get_id(self):\n",
    "        return self.id\n",
    "    \n",
    "    \n",
    "    def set_key(self, key):\n",
    "        self.key = key\n",
    "        \n",
    "        \n",
    "    def set_parent(self, parent):\n",
    "        self.parent = parent\n",
    "        if self.get_key() >= parent.get_key():\n",
    "            parent.set_child(self, greater=True)\n",
    "        else:\n",
    "            parent.set_child(self, greater=False)\n",
    "\n",
    "    def set_child(self, child, greater=True):\n",
    "        if greater and self.right_child is None:\n",
    "            node = child if isinstance(child, Node) else Node(child)\n",
    "            self.right_child = node\n",
    "            node.parent = self\n",
    "            return\n",
    "            \n",
    "        elif not greater and self.left_child is None:\n",
    "            node = child if isinstance(child, Node) else Node(child)\n",
    "            self.left_child = node\n",
    "            node.parent = self\n",
    "            return\n",
    "\n",
    "    def is_child_exsist(self, greater=True):\n",
    "        if greater and self.right_child is None:\n",
    "            return False\n",
    "        elif not greater and self.left_child is None:\n",
    "            return False\n",
    "        elif greater and self.right_child is not None:\n",
    "            return True\n",
    "        elif not greater and self.left_child is not None:\n",
    "            return True\n",
    "        else:\n",
    "            raise Exception(\"Неизвестная ошибка\")"
   ],
   "outputs": [],
   "execution_count": 27
  },
  {
   "cell_type": "markdown",
   "id": "ea1171d1-b7f0-403e-bccc-b0bd68ba2692",
   "metadata": {},
   "source": [
    "# Класс дерева"
   ]
  },
  {
   "cell_type": "code",
   "id": "526803ff-9823-407f-979b-ec825ed33e97",
   "metadata": {
    "ExecuteTime": {
     "end_time": "2024-10-06T15:10:54.273314Z",
     "start_time": "2024-10-06T15:10:54.241057Z"
    }
   },
   "source": [
    "class Tree:\n",
    "    def __init__(self):\n",
    "        self.root = None\n",
    "        self.keylist = []\n",
    "        self.idlist = []\n",
    "\n",
    "    def add_vertex(self, key):\n",
    "        if self.root is None:\n",
    "            self.root = Node(key)\n",
    "            self.root.id = 1\n",
    "            self.keylist.append(['',key])\n",
    "            self.idlist.append([0,self.root.id])\n",
    "            \n",
    "        else:\n",
    "            is_key_added = False\n",
    "            curr_node = self.root\n",
    "            while not is_key_added:\n",
    "                if key < curr_node.get_key():\n",
    "                    if not curr_node.is_child_exsist(greater=False):\n",
    "                        curr_node.set_child(key, greater=False)\n",
    "                        curr_node.get_child(greater=False).set_parent(curr_node)\n",
    "                        \n",
    "                        curr_node.get_child(greater=False).id = self.idlist[-1][1] + 1\n",
    "                        self.keylist.append([curr_node.key, key])\n",
    "                        self.idlist.append([curr_node.id,curr_node.get_child(greater=False).id])\n",
    "                        \n",
    "                        is_key_added = True\n",
    "                    else:\n",
    "                        curr_node = curr_node.get_child(greater=False)\n",
    "                else:\n",
    "                    if not curr_node.is_child_exsist(greater=True):\n",
    "                        curr_node.set_child(key, greater=True)\n",
    "                        curr_node.get_child(greater=True).set_parent(curr_node)\n",
    "                        \n",
    "                        curr_node.get_child(greater=True).id = self.idlist[-1][1] + 1\n",
    "                        self.keylist.append([curr_node.key, key])\n",
    "                        self.idlist.append([curr_node.id,curr_node.get_child(greater=True).id])\n",
    "                        \n",
    "                        is_key_added = True\n",
    "                    else:\n",
    "                        curr_node = curr_node.get_child(greater=True)\n",
    "\n",
    "\n",
    "    def find_key(self, key):\n",
    "        way = []\n",
    "        is_key_found = False\n",
    "        curr_node = self.root\n",
    "        \n",
    "        while not is_key_found:\n",
    "            way.append(curr_node.get_key())\n",
    "            \n",
    "            if curr_node.get_key() == key:\n",
    "                return [way, curr_node]\n",
    "            \n",
    "            else:\n",
    "                if key > curr_node.get_key():\n",
    "                    curr_node = curr_node.get_child(greater=True)\n",
    "                    if curr_node is None:\n",
    "                        return None\n",
    "                elif key < curr_node.get_key():\n",
    "                    curr_node = curr_node.get_child(greater=False)\n",
    "                    if curr_node is None:\n",
    "                        return None\n",
    "        return None\n",
    "    \n",
    "    \n",
    "    def find_next(self, key):\n",
    "        is_next_found = False\n",
    "        counter = 1\n",
    "        while not is_next_found:\n",
    "            if (key + counter) > self.max()[1]:\n",
    "                return None\n",
    "            res = self.find_key(key+counter)\n",
    "            is_next_found = True if res is not None else False\n",
    "            counter += 1\n",
    "            \n",
    "        return res\n",
    "    \n",
    "    def find_prev(self, key):\n",
    "        is_next_found = False\n",
    "        counter = 1\n",
    "        while not is_next_found:\n",
    "            if (key - counter) < self.min()[1]:\n",
    "                return None\n",
    "            res = self.find_key(key - counter)\n",
    "            is_next_found = True if res is not None else False\n",
    "            counter += 1\n",
    "            \n",
    "        return res\n",
    "        \n",
    "    def find_key_by_id(self, ID):\n",
    "        if ID == 1:\n",
    "            return self.root.get_key()\n",
    "        return self.keylist[ID-1][1]\n",
    "\n",
    "    def min(self) -> list:\n",
    "        curr_node = self.root\n",
    "        way = list()\n",
    "        minimum = None\n",
    "        \n",
    "        while True:\n",
    "            way.append(curr_node.get_key())\n",
    "            if curr_node.is_child_exsist(greater=False):\n",
    "                curr_node = curr_node.get_child(greater=False)\n",
    "            else:\n",
    "                minimum = curr_node.get_key()\n",
    "                return [way, minimum]\n",
    "\n",
    "\n",
    "    def max(self) -> list:\n",
    "        curr_node = self.root\n",
    "        way = list()\n",
    "        maximum = None\n",
    "        \n",
    "        while True:\n",
    "            way.append(curr_node.get_key())\n",
    "            if curr_node.is_child_exsist(greater=True):\n",
    "                curr_node = curr_node.get_child(greater=True)\n",
    "            else:\n",
    "                maximum = curr_node.get_key()\n",
    "                return [way, maximum]\n",
    "\n",
    "\n",
    "\n",
    "    def delete(self, key):\n",
    "        node = self.find_key(key)[1]\n",
    "        parent = node.get_parent()\n",
    "\n",
    "        if not node.is_child_exsist(greater=False) and not node.is_child_exsist(greater=True):\n",
    "            if node.get_key() >= parent.get_key():\n",
    "                parent.set_child(None, greater=True)\n",
    "            else:\n",
    "                parent.set_child(None, greater=False)\n",
    "            return \n",
    "            \n",
    "        elif node.is_child_exsist(greater=True) != node.is_child_exsist(greater=False):\n",
    "            if node.is_child_exsist(greater=True):\n",
    "                if node.get_key() >= parent.get_key():\n",
    "                    parent.set_child(node.get_child(greater=True), greater=True)\n",
    "                    node.set_child(None, greater=True)\n",
    "                    node.delete(node.get_key())\n",
    "                else:\n",
    "                    parent.set_child(node.get_child(greater=True), greater=False)\n",
    "                    node.set_child(None, greater=True)\n",
    "                    node.delete(node.get_key())\n",
    "                    \n",
    "            elif node.is_child_exsist(greater=False):\n",
    "                if node.get_key() >= parent.get_key():\n",
    "                    parent.set_child(node.get_child(greater=False), greater=True)\n",
    "                    node.set_child(None, greater=True)\n",
    "                    node.delete(node.get_key())\n",
    "                else:\n",
    "                    parent.set_child(node.get_child(greater=False), greater=False)\n",
    "                    node.set_child(None, greater=True)\n",
    "                    node.delete(node.get_key())\n",
    "            \n",
    "        elif node.is_child_exsist(greater=True) and node.is_child_exsist(greater=False):\n",
    "            nxt = self.find_next(key)[1]\n",
    "            self.delete(nxt.get_key())\n",
    "            node.set_key(nxt.get_key())\n",
    "            \n",
    "            "
   ],
   "outputs": [],
   "execution_count": 28
  },
  {
   "cell_type": "code",
   "id": "3b5b87ba-aa95-41aa-b0d8-879d348e38b4",
   "metadata": {
    "ExecuteTime": {
     "end_time": "2024-10-06T15:11:12.634679Z",
     "start_time": "2024-10-06T15:11:12.629923Z"
    }
   },
   "source": [
    "tree = Tree()\n",
    "\n",
    "tree.add_vertex(10)\n",
    "tree.add_vertex(15)\n",
    "tree.add_vertex(5)\n",
    "tree.add_vertex(7)\n",
    "tree.add_vertex(12)\n",
    "tree.add_vertex(17)\n",
    "\n",
    "tree.delete(15)\n",
    "tree.find_key(12)\n",
    "\n",
    "\n"
   ],
   "outputs": [
    {
     "data": {
      "text/plain": [
       "[[10, 17, 12], <__main__.Node at 0x27d0f531eb0>]"
      ]
     },
     "execution_count": 30,
     "metadata": {},
     "output_type": "execute_result"
    }
   ],
   "execution_count": 30
  },
  {
   "cell_type": "code",
   "id": "f36b8f56-f929-40c5-8d83-a334e84e21b9",
   "metadata": {
    "ExecuteTime": {
     "end_time": "2024-10-04T19:11:21.128814Z",
     "start_time": "2024-10-04T19:11:13.187347Z"
    }
   },
   "source": "",
   "outputs": [],
   "execution_count": 32
  },
  {
   "cell_type": "code",
   "id": "7a164f2a-ef3f-44df-8c28-578cd43dc9c5",
   "metadata": {
    "ExecuteTime": {
     "end_time": "2024-10-04T18:57:58.560783Z",
     "start_time": "2024-10-04T18:57:58.554569Z"
    }
   },
   "source": [],
   "outputs": [],
   "execution_count": null
  }
 ],
 "metadata": {
  "kernelspec": {
   "display_name": "Python 3 (ipykernel)",
   "language": "python",
   "name": "python3"
  },
  "language_info": {
   "codemirror_mode": {
    "name": "ipython",
    "version": 3
   },
   "file_extension": ".py",
   "mimetype": "text/x-python",
   "name": "python",
   "nbconvert_exporter": "python",
   "pygments_lexer": "ipython3",
   "version": "3.12.1"
  }
 },
 "nbformat": 4,
 "nbformat_minor": 5
}
