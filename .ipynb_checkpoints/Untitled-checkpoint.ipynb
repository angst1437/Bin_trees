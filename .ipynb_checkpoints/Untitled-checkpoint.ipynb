{
 "cells": [
  {
   "cell_type": "markdown",
   "id": "ff5d6343-fee5-463c-8117-51576494a3e4",
   "metadata": {},
   "source": [
    "# Импорты"
   ]
  },
  {
   "cell_type": "code",
   "execution_count": 24,
   "id": "c26be325-10e6-455e-95a1-231e5bb8dea3",
   "metadata": {},
   "outputs": [],
   "source": [
    "from collections import deque \n",
    "import time"
   ]
  },
  {
   "cell_type": "markdown",
   "id": "e6a2479d-965d-4054-ba66-f8ff62008cc3",
   "metadata": {},
   "source": [
    "# Класс вершины "
   ]
  },
  {
   "cell_type": "code",
   "execution_count": 25,
   "id": "92bfbc6c-dc6a-4ab6-8638-7c47604d7451",
   "metadata": {},
   "outputs": [],
   "source": [
    "class Node:\n",
    "    def __init__(self, key):\n",
    "        self.key = key\n",
    "        self.parent = None\n",
    "        self.right_child = None\n",
    "        self.left_child = None\n",
    "\n",
    "    \n",
    "    def get_child(self, greater=True):\n",
    "        if greater and self.right_child is not None:\n",
    "            return self.right_child\n",
    "        elif not greater and self.left_child is not None:\n",
    "            return self.left_child\n",
    "        else:\n",
    "            return None\n",
    "\n",
    "\n",
    "    def get_parent(self):\n",
    "        if self.parent is not None:\n",
    "            return self.parent\n",
    "        else:\n",
    "            raise Exception(\"Запрос родителя у корня\")\n",
    "\n",
    "    def get_key(self):\n",
    "        return self.key\n",
    "\n",
    "\n",
    "    def set_parent(self, parent):\n",
    "        if self.parent is None:\n",
    "            self.parent = parent\n",
    "        else:\n",
    "            raise Exception(\"Родитель уже задан\")\n",
    "\n",
    "    def set_child(self, key, greater=True):\n",
    "        if greater and self.right_child is None:\n",
    "            node = Node(key)\n",
    "            self.right_child = node\n",
    "            return\n",
    "            \n",
    "        elif not greater and self.left_child is None:\n",
    "            node = Node(key)\n",
    "            self.left_child = node\n",
    "            return\n",
    "\n",
    "    def is_child_exsist(self, greater=True):\n",
    "        \n",
    "        if greater and self.right_child is None:\n",
    "            return False\n",
    "        elif not greater and self.left_child is None:\n",
    "            return False\n",
    "        elif greater and self.right_child is not None:\n",
    "            return True\n",
    "        elif not greater and self.left_child is not None:\n",
    "            return True\n",
    "        else:\n",
    "            raise Exception(\"Неизвестная ошибка\")"
   ]
  },
  {
   "cell_type": "markdown",
   "id": "ea1171d1-b7f0-403e-bccc-b0bd68ba2692",
   "metadata": {},
   "source": [
    "# Класс дерева"
   ]
  },
  {
   "cell_type": "code",
   "execution_count": 26,
   "id": "526803ff-9823-407f-979b-ec825ed33e97",
   "metadata": {},
   "outputs": [],
   "source": [
    "class Tree:\n",
    "    def __init__(self):\n",
    "        self.root = None\n",
    "\n",
    "    def add_vertex(self, key):\n",
    "        if self.root is None:\n",
    "            self.root = Node(key)\n",
    "        else:\n",
    "            is_key_added = False\n",
    "            curr_node = self.root\n",
    "            while not is_key_added:\n",
    "                if key < curr_node.get_key():\n",
    "                    if not curr_node.is_child_exsist(greater=False):\n",
    "                        curr_node.set_child(key, greater=False)\n",
    "                        curr_node.get_child(greater=False).set_parent(curr_node)\n",
    "                        is_key_added = True\n",
    "                    else:\n",
    "                        curr_node = curr_node.get_child(greater=False)\n",
    "                else:\n",
    "                    if not curr_node.is_child_exsist(greater=True):\n",
    "                        curr_node.set_child(key, greater=True)\n",
    "                        curr_node.get_child(greater=True).set_parent(curr_node)\n",
    "                        is_key_added = True\n",
    "                    else:\n",
    "                        curr_node = curr_node.get_child(greater=True)\n",
    "\n",
    "\n",
    "    def find_key(self, key):\n",
    "        way = deque()\n",
    "        is_key_finded = False\n",
    "        curr_node = self.root\n",
    "        \n",
    "        while not is_key_finded:\n",
    "            way.append(curr_node.get_key())\n",
    "            if curr_node.get_key() == key:\n",
    "                return [way, curr_node]\n",
    "            else:\n",
    "                if key > curr_node.get_key():\n",
    "                    curr_node = curr_node.get_child(greater=True)\n",
    "                elif key < curr_node.get_key():\n",
    "                    curr_node = curr_node.get_child(greater=False)\n",
    "        return None\n",
    "                \n",
    "\n",
    "    def min(self) -> list:\n",
    "        curr_node = self.root\n",
    "        way = deque()\n",
    "        minimum = None\n",
    "        \n",
    "        while True:\n",
    "            way.append(curr_node.get_key())\n",
    "            if curr_node.is_child_exsist(greater=False):\n",
    "                curr_node = curr_node.get_child(greater=False)\n",
    "            else:\n",
    "                minimum = curr_node.get_key()\n",
    "                return [way, minimum]\n",
    "\n",
    "\n",
    "    def max(self) -> list:\n",
    "        curr_node = self.root\n",
    "        way = deque()\n",
    "        maximum = None\n",
    "        \n",
    "        while True:\n",
    "            way.append(curr_node.get_key())\n",
    "            if curr_node.is_child_exsist(greater=True):\n",
    "                curr_node = curr_node.get_child(greater=True)\n",
    "            else:\n",
    "                maximum = curr_node.get_key()\n",
    "                return [way, maximum]\n",
    "\n",
    "\n",
    "\n",
    "    # ТУТ ЕБАНЫЙ ПОРТАЛ В АД НЕ ТРОГАЙТЕ И ДАЖЕ НЕ СМОТРИТЕ СЮДА\n",
    "    def delete(self, key):\n",
    "        node = self.find_key(key)[1]\n",
    "\n",
    "        if not node.is_child_exsist(greater=False) or not node.is_child_exsist(greater=True):\n",
    "            parent = node.get_parent()\n",
    "            \n",
    "            \n",
    "            "
   ]
  },
  {
   "cell_type": "code",
   "execution_count": 27,
   "id": "3b5b87ba-aa95-41aa-b0d8-879d348e38b4",
   "metadata": {},
   "outputs": [
    {
     "name": "stdout",
     "output_type": "stream",
     "text": [
      "[deque([5, 6, 6, 8]), 8]\n",
      "8\n"
     ]
    }
   ],
   "source": [
    "tree = Tree()\n",
    "tree.add_vertex(5)\n",
    "tree.add_vertex(3)\n",
    "tree.add_vertex(6)\n",
    "tree.add_vertex(6)\n",
    "tree.add_vertex(1)\n",
    "tree.add_vertex(8)\n",
    "print(tree.max())"
   ]
  },
  {
   "cell_type": "code",
   "execution_count": null,
   "id": "f36b8f56-f929-40c5-8d83-a334e84e21b9",
   "metadata": {},
   "outputs": [],
   "source": []
  },
  {
   "cell_type": "code",
   "execution_count": null,
   "id": "7a164f2a-ef3f-44df-8c28-578cd43dc9c5",
   "metadata": {},
   "outputs": [],
   "source": []
  }
 ],
 "metadata": {
  "kernelspec": {
   "display_name": "Python 3 (ipykernel)",
   "language": "python",
   "name": "python3"
  },
  "language_info": {
   "codemirror_mode": {
    "name": "ipython",
    "version": 3
   },
   "file_extension": ".py",
   "mimetype": "text/x-python",
   "name": "python",
   "nbconvert_exporter": "python",
   "pygments_lexer": "ipython3",
   "version": "3.12.6"
  }
 },
 "nbformat": 4,
 "nbformat_minor": 5
}
